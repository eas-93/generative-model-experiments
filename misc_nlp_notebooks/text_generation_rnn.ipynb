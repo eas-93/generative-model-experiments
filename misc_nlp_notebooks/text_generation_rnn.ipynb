{
 "cells": [
  {
   "cell_type": "markdown",
   "metadata": {
    "id": "ovpZyIhNIgoq"
   },
   "source": [
    "### Text generation with an RNN\n",
    "#### News article generation using code at https://www.tensorflow.org/tutorials/text/text_generation"
   ]
  },
  {
   "cell_type": "markdown",
   "metadata": {
    "id": "_bGsCP9DZFQ5"
   },
   "source": [
    "This notebook trains a character-level RNN to predict the next character in a sequence, and samples from this model to generate new text sequences.\n",
    "\n",
    "The code here is almost all copied from the link above."
   ]
  },
  {
   "cell_type": "markdown",
   "metadata": {
    "id": "WGyKZj3bzf9p"
   },
   "source": [
    "#### Import TensorFlow and other libraries"
   ]
  },
  {
   "cell_type": "code",
   "execution_count": null,
   "metadata": {},
   "outputs": [],
   "source": [
    "!pip install tensorflow_datasets"
   ]
  },
  {
   "cell_type": "code",
   "execution_count": null,
   "metadata": {
    "execution": {
     "iopub.execute_input": "2021-01-08T06:02:32.450843Z",
     "iopub.status.busy": "2021-01-08T06:02:32.450228Z",
     "iopub.status.idle": "2021-01-08T06:02:38.562555Z",
     "shell.execute_reply": "2021-01-08T06:02:38.561893Z"
    },
    "id": "yG_n40gFzf9s"
   },
   "outputs": [],
   "source": [
    "import tensorflow as tf\n",
    "from tensorflow.keras.layers.experimental import preprocessing\n",
    "import tensorflow_datasets as tfds\n",
    "\n",
    "import numpy as np\n",
    "import os\n",
    "import time"
   ]
  },
  {
   "cell_type": "markdown",
   "metadata": {
    "id": "EHDoRoc5PKWz"
   },
   "source": [
    "#### Download the news articles dataset\n",
    "\n",
    "Change the following line to run this code on your own data."
   ]
  },
  {
   "cell_type": "code",
   "execution_count": null,
   "metadata": {},
   "outputs": [],
   "source": [
    "ds = tfds.load('cnn_dailymail', split='train')\n",
    "\n",
    "articles = []\n",
    "for example in ds: \n",
    "    articles.append(example[\"article\"].numpy().decode(\"utf-8\"))\n",
    "    \n",
    "print(len(articles))"
   ]
  },
  {
   "cell_type": "markdown",
   "metadata": {
    "id": "UHjdCjDuSvX_"
   },
   "source": [
    "#### Read the data\n",
    "\n",
    "First, look in the text:"
   ]
  },
  {
   "cell_type": "code",
   "execution_count": null,
   "metadata": {},
   "outputs": [],
   "source": [
    "text = ' '.join(articles[0:2000])\n",
    "print('Length of text: {} characters'.format(len(text)))"
   ]
  },
  {
   "cell_type": "code",
   "execution_count": null,
   "metadata": {
    "execution": {
     "iopub.execute_input": "2021-01-08T06:02:38.787695Z",
     "iopub.status.busy": "2021-01-08T06:02:38.787022Z",
     "iopub.status.idle": "2021-01-08T06:02:38.789258Z",
     "shell.execute_reply": "2021-01-08T06:02:38.789680Z"
    },
    "id": "Duhg9NrUymwO"
   },
   "outputs": [],
   "source": [
    "# Take a look at the first 250 characters in text\n",
    "print(text[:250])"
   ]
  },
  {
   "cell_type": "code",
   "execution_count": null,
   "metadata": {
    "execution": {
     "iopub.execute_input": "2021-01-08T06:02:38.808907Z",
     "iopub.status.busy": "2021-01-08T06:02:38.808247Z",
     "iopub.status.idle": "2021-01-08T06:02:38.810403Z",
     "shell.execute_reply": "2021-01-08T06:02:38.810821Z"
    },
    "id": "IlCgQBRVymwR"
   },
   "outputs": [],
   "source": [
    "# The unique characters in the file\n",
    "vocab = sorted(set(text))\n",
    "print('{} unique characters'.format(len(vocab)))"
   ]
  },
  {
   "cell_type": "markdown",
   "metadata": {
    "id": "rNnrKn_lL-IJ"
   },
   "source": [
    "#### Process the text"
   ]
  },
  {
   "cell_type": "code",
   "execution_count": null,
   "metadata": {
    "execution": {
     "iopub.execute_input": "2021-01-08T06:02:40.238188Z",
     "iopub.status.busy": "2021-01-08T06:02:40.235958Z",
     "iopub.status.idle": "2021-01-08T06:02:40.548888Z",
     "shell.execute_reply": "2021-01-08T06:02:40.549399Z"
    },
    "id": "a86OoYtO01go"
   },
   "outputs": [],
   "source": [
    "example_texts = ['abcdefg', 'xyz']\n",
    "\n",
    "chars = tf.strings.unicode_split(example_texts, input_encoding='UTF-8')\n",
    "chars"
   ]
  },
  {
   "cell_type": "code",
   "execution_count": null,
   "metadata": {
    "execution": {
     "iopub.execute_input": "2021-01-08T06:02:40.553962Z",
     "iopub.status.busy": "2021-01-08T06:02:40.553314Z",
     "iopub.status.idle": "2021-01-08T06:02:40.573967Z",
     "shell.execute_reply": "2021-01-08T06:02:40.573468Z"
    },
    "id": "6GMlCe3qzaL9"
   },
   "outputs": [],
   "source": [
    "ids_from_chars = preprocessing.StringLookup(\n",
    "    vocabulary=list(vocab))"
   ]
  },
  {
   "cell_type": "code",
   "execution_count": null,
   "metadata": {
    "execution": {
     "iopub.execute_input": "2021-01-08T06:02:40.580123Z",
     "iopub.status.busy": "2021-01-08T06:02:40.578389Z",
     "iopub.status.idle": "2021-01-08T06:02:40.584767Z",
     "shell.execute_reply": "2021-01-08T06:02:40.584330Z"
    },
    "id": "WLv5Q_2TC2pc"
   },
   "outputs": [],
   "source": [
    "ids = ids_from_chars(chars)\n",
    "ids"
   ]
  },
  {
   "cell_type": "code",
   "execution_count": null,
   "metadata": {
    "execution": {
     "iopub.execute_input": "2021-01-08T06:02:40.593417Z",
     "iopub.status.busy": "2021-01-08T06:02:40.592759Z",
     "iopub.status.idle": "2021-01-08T06:02:40.595378Z",
     "shell.execute_reply": "2021-01-08T06:02:40.594932Z"
    },
    "id": "Wd2m3mqkDjRj"
   },
   "outputs": [],
   "source": [
    "chars_from_ids = tf.keras.layers.experimental.preprocessing.StringLookup(\n",
    "    vocabulary=ids_from_chars.get_vocabulary(), invert=True)"
   ]
  },
  {
   "cell_type": "code",
   "execution_count": null,
   "metadata": {
    "execution": {
     "iopub.execute_input": "2021-01-08T06:02:40.599684Z",
     "iopub.status.busy": "2021-01-08T06:02:40.598971Z",
     "iopub.status.idle": "2021-01-08T06:02:40.602451Z",
     "shell.execute_reply": "2021-01-08T06:02:40.602838Z"
    },
    "id": "c2GCh0ySD44s"
   },
   "outputs": [],
   "source": [
    "chars = chars_from_ids(ids)\n",
    "chars"
   ]
  },
  {
   "cell_type": "code",
   "execution_count": null,
   "metadata": {
    "execution": {
     "iopub.execute_input": "2021-01-08T06:02:40.607078Z",
     "iopub.status.busy": "2021-01-08T06:02:40.606468Z",
     "iopub.status.idle": "2021-01-08T06:02:40.618731Z",
     "shell.execute_reply": "2021-01-08T06:02:40.619158Z"
    },
    "id": "zxYI-PeltqKP"
   },
   "outputs": [],
   "source": [
    "tf.strings.reduce_join(chars, axis=-1).numpy()"
   ]
  },
  {
   "cell_type": "code",
   "execution_count": null,
   "metadata": {
    "execution": {
     "iopub.execute_input": "2021-01-08T06:02:40.623278Z",
     "iopub.status.busy": "2021-01-08T06:02:40.622621Z",
     "iopub.status.idle": "2021-01-08T06:02:40.624303Z",
     "shell.execute_reply": "2021-01-08T06:02:40.624693Z"
    },
    "id": "w5apvBDn9Ind"
   },
   "outputs": [],
   "source": [
    "def text_from_ids(ids):\n",
    "    return tf.strings.reduce_join(chars_from_ids(ids), axis=-1)"
   ]
  },
  {
   "cell_type": "markdown",
   "metadata": {
    "id": "hgsVvVxnymwf"
   },
   "source": [
    "#### Create training examples and targets"
   ]
  },
  {
   "cell_type": "code",
   "execution_count": null,
   "metadata": {
    "execution": {
     "iopub.execute_input": "2021-01-08T06:02:40.631438Z",
     "iopub.status.busy": "2021-01-08T06:02:40.630587Z",
     "iopub.status.idle": "2021-01-08T06:02:41.163650Z",
     "shell.execute_reply": "2021-01-08T06:02:41.163109Z"
    },
    "id": "UopbsKi88tm5"
   },
   "outputs": [],
   "source": [
    "all_ids = ids_from_chars(tf.strings.unicode_split(text, 'UTF-8'))\n",
    "all_ids"
   ]
  },
  {
   "cell_type": "code",
   "execution_count": null,
   "metadata": {
    "execution": {
     "iopub.execute_input": "2021-01-08T06:02:41.168329Z",
     "iopub.status.busy": "2021-01-08T06:02:41.167585Z",
     "iopub.status.idle": "2021-01-08T06:02:41.170448Z",
     "shell.execute_reply": "2021-01-08T06:02:41.169946Z"
    },
    "id": "qmxrYDCTy-eL"
   },
   "outputs": [],
   "source": [
    "ids_dataset = tf.data.Dataset.from_tensor_slices(all_ids)"
   ]
  },
  {
   "cell_type": "code",
   "execution_count": null,
   "metadata": {
    "execution": {
     "iopub.execute_input": "2021-01-08T06:02:41.174671Z",
     "iopub.status.busy": "2021-01-08T06:02:41.173984Z",
     "iopub.status.idle": "2021-01-08T06:02:41.190280Z",
     "shell.execute_reply": "2021-01-08T06:02:41.189596Z"
    },
    "id": "cjH5v45-yqqH"
   },
   "outputs": [],
   "source": [
    "for ids in ids_dataset.take(10):\n",
    "    print(chars_from_ids(ids).numpy().decode('utf-8'))"
   ]
  },
  {
   "cell_type": "code",
   "execution_count": null,
   "metadata": {
    "execution": {
     "iopub.execute_input": "2021-01-08T06:02:41.194364Z",
     "iopub.status.busy": "2021-01-08T06:02:41.193599Z",
     "iopub.status.idle": "2021-01-08T06:02:41.195619Z",
     "shell.execute_reply": "2021-01-08T06:02:41.196088Z"
    },
    "id": "C-G2oaTxy6km"
   },
   "outputs": [],
   "source": [
    "seq_length = 100\n",
    "examples_per_epoch = len(text)//(seq_length+1)"
   ]
  },
  {
   "cell_type": "code",
   "execution_count": null,
   "metadata": {
    "execution": {
     "iopub.execute_input": "2021-01-08T06:02:41.200858Z",
     "iopub.status.busy": "2021-01-08T06:02:41.200168Z",
     "iopub.status.idle": "2021-01-08T06:02:41.210486Z",
     "shell.execute_reply": "2021-01-08T06:02:41.209953Z"
    },
    "id": "BpdjRO2CzOfZ"
   },
   "outputs": [],
   "source": [
    "sequences = ids_dataset.batch(seq_length+1, drop_remainder=True)\n",
    "\n",
    "for seq in sequences.take(1):\n",
    "    print(chars_from_ids(seq))"
   ]
  },
  {
   "cell_type": "code",
   "execution_count": null,
   "metadata": {
    "execution": {
     "iopub.execute_input": "2021-01-08T06:02:41.214792Z",
     "iopub.status.busy": "2021-01-08T06:02:41.214083Z",
     "iopub.status.idle": "2021-01-08T06:02:41.226070Z",
     "shell.execute_reply": "2021-01-08T06:02:41.225535Z"
    },
    "id": "QO32cMWu4a06"
   },
   "outputs": [],
   "source": [
    "for seq in sequences.take(5):\n",
    "    print(text_from_ids(seq).numpy())"
   ]
  },
  {
   "cell_type": "code",
   "execution_count": null,
   "metadata": {
    "execution": {
     "iopub.execute_input": "2021-01-08T06:02:41.230426Z",
     "iopub.status.busy": "2021-01-08T06:02:41.229782Z",
     "iopub.status.idle": "2021-01-08T06:02:41.232693Z",
     "shell.execute_reply": "2021-01-08T06:02:41.232160Z"
    },
    "id": "9NGu-FkO_kYU"
   },
   "outputs": [],
   "source": [
    "def split_input_target(sequence):\n",
    "    input_text = sequence[:-1]\n",
    "    target_text = sequence[1:]\n",
    "    return input_text, target_text"
   ]
  },
  {
   "cell_type": "code",
   "execution_count": null,
   "metadata": {
    "execution": {
     "iopub.execute_input": "2021-01-08T06:02:41.237368Z",
     "iopub.status.busy": "2021-01-08T06:02:41.236608Z",
     "iopub.status.idle": "2021-01-08T06:02:41.239478Z",
     "shell.execute_reply": "2021-01-08T06:02:41.239948Z"
    },
    "id": "WxbDTJTw5u_P"
   },
   "outputs": [],
   "source": [
    "split_input_target(list(\"Tensorflow\"))"
   ]
  },
  {
   "cell_type": "code",
   "execution_count": null,
   "metadata": {
    "execution": {
     "iopub.execute_input": "2021-01-08T06:02:41.275357Z",
     "iopub.status.busy": "2021-01-08T06:02:41.245026Z",
     "iopub.status.idle": "2021-01-08T06:02:41.297682Z",
     "shell.execute_reply": "2021-01-08T06:02:41.297094Z"
    },
    "id": "B9iKPXkw5xwa"
   },
   "outputs": [],
   "source": [
    "dataset = sequences.map(split_input_target)"
   ]
  },
  {
   "cell_type": "code",
   "execution_count": null,
   "metadata": {
    "execution": {
     "iopub.execute_input": "2021-01-08T06:02:41.303364Z",
     "iopub.status.busy": "2021-01-08T06:02:41.302179Z",
     "iopub.status.idle": "2021-01-08T06:02:41.323661Z",
     "shell.execute_reply": "2021-01-08T06:02:41.323117Z"
    },
    "id": "GNbw-iR0ymwj"
   },
   "outputs": [],
   "source": [
    "for input_example, target_example in  dataset.take(1):\n",
    "    print(\"Input :\", text_from_ids(input_example).numpy())\n",
    "    print(\"Target:\", text_from_ids(target_example).numpy())"
   ]
  },
  {
   "cell_type": "markdown",
   "metadata": {
    "id": "MJdfPmdqzf-R"
   },
   "source": [
    "#### Create training batches"
   ]
  },
  {
   "cell_type": "code",
   "execution_count": null,
   "metadata": {
    "execution": {
     "iopub.execute_input": "2021-01-08T06:02:41.328843Z",
     "iopub.status.busy": "2021-01-08T06:02:41.328105Z",
     "iopub.status.idle": "2021-01-08T06:02:41.334046Z",
     "shell.execute_reply": "2021-01-08T06:02:41.333389Z"
    },
    "id": "p2pGotuNzf-S"
   },
   "outputs": [],
   "source": [
    "# Batch size\n",
    "BATCH_SIZE = 64\n",
    "\n",
    "# Buffer size to shuffle the dataset\n",
    "# (TF data is designed to work with possibly infinite sequences,\n",
    "# so it doesn't attempt to shuffle the entire sequence in memory. Instead,\n",
    "# it maintains a buffer in which it shuffles elements).\n",
    "BUFFER_SIZE = 10000\n",
    "\n",
    "dataset = (\n",
    "    dataset\n",
    "    .shuffle(BUFFER_SIZE)\n",
    "    .batch(BATCH_SIZE, drop_remainder=True)\n",
    "    .prefetch(tf.data.experimental.AUTOTUNE))\n",
    "\n",
    "dataset"
   ]
  },
  {
   "cell_type": "markdown",
   "metadata": {
    "id": "r6oUuElIMgVx"
   },
   "source": [
    "#### Build The Model"
   ]
  },
  {
   "cell_type": "code",
   "execution_count": null,
   "metadata": {
    "execution": {
     "iopub.execute_input": "2021-01-08T06:02:41.338397Z",
     "iopub.status.busy": "2021-01-08T06:02:41.337711Z",
     "iopub.status.idle": "2021-01-08T06:02:41.340015Z",
     "shell.execute_reply": "2021-01-08T06:02:41.339523Z"
    },
    "id": "zHT8cLh7EAsg"
   },
   "outputs": [],
   "source": [
    "# Length of the vocabulary in chars\n",
    "vocab_size = len(vocab)\n",
    "\n",
    "# The embedding dimension\n",
    "embedding_dim = 256\n",
    "\n",
    "# Number of RNN units\n",
    "rnn_units = 1024"
   ]
  },
  {
   "cell_type": "code",
   "execution_count": null,
   "metadata": {
    "execution": {
     "iopub.execute_input": "2021-01-08T06:02:41.347087Z",
     "iopub.status.busy": "2021-01-08T06:02:41.346475Z",
     "iopub.status.idle": "2021-01-08T06:02:41.348148Z",
     "shell.execute_reply": "2021-01-08T06:02:41.348536Z"
    },
    "id": "wj8HQ2w8z4iO"
   },
   "outputs": [],
   "source": [
    "class MyModel(tf.keras.Model):\n",
    "    def __init__(self, vocab_size, embedding_dim, rnn_units):\n",
    "        super().__init__(self)\n",
    "        self.embedding = tf.keras.layers.Embedding(vocab_size, embedding_dim)\n",
    "        self.gru = tf.keras.layers.GRU(rnn_units,\n",
    "                                       return_sequences=True, \n",
    "                                       return_state=True)\n",
    "        self.dense = tf.keras.layers.Dense(vocab_size)\n",
    "\n",
    "    def call(self, inputs, states=None, return_state=False, training=False):\n",
    "        x = inputs\n",
    "        x = self.embedding(x, training=training)\n",
    "        if states is None:\n",
    "            states = self.gru.get_initial_state(x)\n",
    "        x, states = self.gru(x, initial_state=states, training=training)\n",
    "        x = self.dense(x, training=training)\n",
    "\n",
    "        if return_state:\n",
    "            return x, states\n",
    "        else: \n",
    "            return x"
   ]
  },
  {
   "cell_type": "code",
   "execution_count": null,
   "metadata": {
    "execution": {
     "iopub.execute_input": "2021-01-08T06:02:41.354652Z",
     "iopub.status.busy": "2021-01-08T06:02:41.354041Z",
     "iopub.status.idle": "2021-01-08T06:02:41.380046Z",
     "shell.execute_reply": "2021-01-08T06:02:41.379513Z"
    },
    "id": "IX58Xj9z47Aw"
   },
   "outputs": [],
   "source": [
    "model = MyModel(\n",
    "    # Be sure the vocabulary size matches the `StringLookup` layers.\n",
    "    vocab_size=len(ids_from_chars.get_vocabulary()),\n",
    "    embedding_dim=embedding_dim,\n",
    "    rnn_units=rnn_units)"
   ]
  },
  {
   "cell_type": "markdown",
   "metadata": {
    "id": "-ubPo0_9Prjb"
   },
   "source": [
    "#### Try the model"
   ]
  },
  {
   "cell_type": "code",
   "execution_count": null,
   "metadata": {
    "execution": {
     "iopub.execute_input": "2021-01-08T06:02:41.384917Z",
     "iopub.status.busy": "2021-01-08T06:02:41.384245Z",
     "iopub.status.idle": "2021-01-08T06:02:44.787110Z",
     "shell.execute_reply": "2021-01-08T06:02:44.786507Z"
    },
    "id": "C-_70kKAPrPU"
   },
   "outputs": [],
   "source": [
    "for input_example_batch, target_example_batch in dataset.take(1):\n",
    "    example_batch_predictions = model(input_example_batch)\n",
    "    print(example_batch_predictions.shape, \"# (batch_size, sequence_length, vocab_size)\")"
   ]
  },
  {
   "cell_type": "code",
   "execution_count": null,
   "metadata": {
    "execution": {
     "iopub.execute_input": "2021-01-08T06:02:44.792244Z",
     "iopub.status.busy": "2021-01-08T06:02:44.791592Z",
     "iopub.status.idle": "2021-01-08T06:02:44.795002Z",
     "shell.execute_reply": "2021-01-08T06:02:44.794521Z"
    },
    "id": "vPGmAAXmVLGC"
   },
   "outputs": [],
   "source": [
    "model.summary()"
   ]
  },
  {
   "cell_type": "code",
   "execution_count": null,
   "metadata": {
    "execution": {
     "iopub.execute_input": "2021-01-08T06:02:44.799364Z",
     "iopub.status.busy": "2021-01-08T06:02:44.798647Z",
     "iopub.status.idle": "2021-01-08T06:02:44.801354Z",
     "shell.execute_reply": "2021-01-08T06:02:44.801779Z"
    },
    "id": "4V4MfFg0RQJg"
   },
   "outputs": [],
   "source": [
    "sampled_indices = tf.random.categorical(example_batch_predictions[0], num_samples=1)\n",
    "sampled_indices = tf.squeeze(sampled_indices,axis=-1).numpy()"
   ]
  },
  {
   "cell_type": "code",
   "execution_count": null,
   "metadata": {
    "execution": {
     "iopub.execute_input": "2021-01-08T06:02:44.806377Z",
     "iopub.status.busy": "2021-01-08T06:02:44.805403Z",
     "iopub.status.idle": "2021-01-08T06:02:44.808002Z",
     "shell.execute_reply": "2021-01-08T06:02:44.808421Z"
    },
    "id": "YqFMUQc_UFgM"
   },
   "outputs": [],
   "source": [
    "sampled_indices"
   ]
  },
  {
   "cell_type": "code",
   "execution_count": null,
   "metadata": {
    "execution": {
     "iopub.execute_input": "2021-01-08T06:02:44.812966Z",
     "iopub.status.busy": "2021-01-08T06:02:44.812320Z",
     "iopub.status.idle": "2021-01-08T06:02:44.817515Z",
     "shell.execute_reply": "2021-01-08T06:02:44.817959Z"
    },
    "id": "xWcFwPwLSo05"
   },
   "outputs": [],
   "source": [
    "print(\"Input:\\n\", text_from_ids(input_example_batch[0]).numpy())\n",
    "print()\n",
    "print(\"Next Char Predictions:\\n\", text_from_ids(sampled_indices).numpy())"
   ]
  },
  {
   "cell_type": "markdown",
   "metadata": {
    "id": "LJL0Q0YPY6Ee"
   },
   "source": [
    "#### Train the model"
   ]
  },
  {
   "cell_type": "code",
   "execution_count": null,
   "metadata": {
    "execution": {
     "iopub.execute_input": "2021-01-08T06:02:44.822350Z",
     "iopub.status.busy": "2021-01-08T06:02:44.821703Z",
     "iopub.status.idle": "2021-01-08T06:02:44.823538Z",
     "shell.execute_reply": "2021-01-08T06:02:44.823956Z"
    },
    "id": "ZOeWdgxNFDXq"
   },
   "outputs": [],
   "source": [
    "loss = tf.losses.SparseCategoricalCrossentropy(from_logits=True)"
   ]
  },
  {
   "cell_type": "code",
   "execution_count": null,
   "metadata": {
    "execution": {
     "iopub.execute_input": "2021-01-08T06:02:44.828874Z",
     "iopub.status.busy": "2021-01-08T06:02:44.828229Z",
     "iopub.status.idle": "2021-01-08T06:02:44.834573Z",
     "shell.execute_reply": "2021-01-08T06:02:44.834046Z"
    },
    "id": "4HrXTACTdzY-"
   },
   "outputs": [],
   "source": [
    "example_batch_loss = loss(target_example_batch, example_batch_predictions)\n",
    "mean_loss = example_batch_loss.numpy().mean()\n",
    "print(\"Prediction shape: \", example_batch_predictions.shape, \" # (batch_size, sequence_length, vocab_size)\")\n",
    "print(\"Mean loss:        \", mean_loss)"
   ]
  },
  {
   "cell_type": "code",
   "execution_count": null,
   "metadata": {
    "execution": {
     "iopub.execute_input": "2021-01-08T06:02:44.838230Z",
     "iopub.status.busy": "2021-01-08T06:02:44.837607Z",
     "iopub.status.idle": "2021-01-08T06:02:44.841290Z",
     "shell.execute_reply": "2021-01-08T06:02:44.840770Z"
    },
    "id": "MAJfS5YoFiHf"
   },
   "outputs": [],
   "source": [
    "tf.exp(mean_loss).numpy()"
   ]
  },
  {
   "cell_type": "code",
   "execution_count": null,
   "metadata": {
    "execution": {
     "iopub.execute_input": "2021-01-08T06:02:44.854759Z",
     "iopub.status.busy": "2021-01-08T06:02:44.854087Z",
     "iopub.status.idle": "2021-01-08T06:02:44.863357Z",
     "shell.execute_reply": "2021-01-08T06:02:44.862803Z"
    },
    "id": "DDl1_Een6rL0"
   },
   "outputs": [],
   "source": [
    "model.compile(optimizer='adam', loss=loss)"
   ]
  },
  {
   "cell_type": "markdown",
   "metadata": {
    "id": "ieSJdchZggUj"
   },
   "source": [
    "#### Configure checkpoints"
   ]
  },
  {
   "cell_type": "code",
   "execution_count": null,
   "metadata": {
    "execution": {
     "iopub.execute_input": "2021-01-08T06:02:44.868033Z",
     "iopub.status.busy": "2021-01-08T06:02:44.867418Z",
     "iopub.status.idle": "2021-01-08T06:02:44.869365Z",
     "shell.execute_reply": "2021-01-08T06:02:44.868884Z"
    },
    "id": "W6fWTriUZP-n"
   },
   "outputs": [],
   "source": [
    "# Directory where the checkpoints will be saved\n",
    "checkpoint_dir = './training_checkpoints'\n",
    "# Name of the checkpoint files\n",
    "checkpoint_prefix = os.path.join(checkpoint_dir, \"ckpt_{epoch}\")\n",
    "\n",
    "checkpoint_callback = tf.keras.callbacks.ModelCheckpoint(\n",
    "    filepath=checkpoint_prefix,\n",
    "    save_weights_only=True)"
   ]
  },
  {
   "cell_type": "markdown",
   "metadata": {
    "id": "3Ky3F_BhgkTW"
   },
   "source": [
    "#### Execute the training"
   ]
  },
  {
   "cell_type": "code",
   "execution_count": null,
   "metadata": {
    "execution": {
     "iopub.execute_input": "2021-01-08T06:02:44.873221Z",
     "iopub.status.busy": "2021-01-08T06:02:44.872548Z",
     "iopub.status.idle": "2021-01-08T06:02:44.874741Z",
     "shell.execute_reply": "2021-01-08T06:02:44.874253Z"
    },
    "id": "7yGBE2zxMMHs"
   },
   "outputs": [],
   "source": [
    "EPOCHS = 2"
   ]
  },
  {
   "cell_type": "code",
   "execution_count": null,
   "metadata": {
    "execution": {
     "iopub.execute_input": "2021-01-08T06:02:44.878504Z",
     "iopub.status.busy": "2021-01-08T06:02:44.877932Z",
     "iopub.status.idle": "2021-01-08T06:04:36.608584Z",
     "shell.execute_reply": "2021-01-08T06:04:36.609030Z"
    },
    "id": "UK-hmKjYVoll"
   },
   "outputs": [],
   "source": [
    "history = model.fit(dataset, epochs=EPOCHS, callbacks=[checkpoint_callback])"
   ]
  },
  {
   "cell_type": "markdown",
   "metadata": {
    "id": "kKkD5M6eoSiN"
   },
   "source": [
    "#### Generate text"
   ]
  },
  {
   "cell_type": "markdown",
   "metadata": {
    "id": "DjGz1tDkzf-u"
   },
   "source": [
    "The following makes a single step prediction:"
   ]
  },
  {
   "cell_type": "code",
   "execution_count": null,
   "metadata": {
    "execution": {
     "iopub.execute_input": "2021-01-08T06:04:36.618259Z",
     "iopub.status.busy": "2021-01-08T06:04:36.617622Z",
     "iopub.status.idle": "2021-01-08T06:04:36.619398Z",
     "shell.execute_reply": "2021-01-08T06:04:36.619754Z"
    },
    "id": "iSBU1tHmlUSs"
   },
   "outputs": [],
   "source": [
    "class OneStep(tf.keras.Model):\n",
    "  def __init__(self, model, chars_from_ids, ids_from_chars, temperature=1.0):\n",
    "    super().__init__()\n",
    "    self.temperature=temperature\n",
    "    self.model = model\n",
    "    self.chars_from_ids = chars_from_ids\n",
    "    self.ids_from_chars = ids_from_chars\n",
    "\n",
    "    # Create a mask to prevent \"\" or \"[UNK]\" from being generated.\n",
    "    skip_ids = self.ids_from_chars(['','[UNK]'])[:, None]\n",
    "    sparse_mask = tf.SparseTensor(\n",
    "        # Put a -inf at each bad index.\n",
    "        values=[-float('inf')]*len(skip_ids),\n",
    "        indices = skip_ids,\n",
    "        # Match the shape to the vocabulary\n",
    "        dense_shape=[len(ids_from_chars.get_vocabulary())]) \n",
    "    self.prediction_mask = tf.sparse.to_dense(sparse_mask)\n",
    "\n",
    "  @tf.function\n",
    "  def generate_one_step(self, inputs, states=None):\n",
    "    # Convert strings to token IDs.\n",
    "    input_chars = tf.strings.unicode_split(inputs, 'UTF-8')\n",
    "    input_ids = self.ids_from_chars(input_chars).to_tensor()\n",
    "\n",
    "    # Run the model.\n",
    "    # predicted_logits.shape is [batch, char, next_char_logits] \n",
    "    predicted_logits, states =  self.model(inputs=input_ids, states=states, \n",
    "                                          return_state=True)\n",
    "    # Only use the last prediction.\n",
    "    predicted_logits = predicted_logits[:, -1, :]\n",
    "    predicted_logits = predicted_logits/self.temperature\n",
    "    # Apply the prediction mask: prevent \"\" or \"[UNK]\" from being generated.\n",
    "    predicted_logits = predicted_logits + self.prediction_mask\n",
    "\n",
    "    # Sample the output logits to generate token IDs.\n",
    "    predicted_ids = tf.random.categorical(predicted_logits, num_samples=1)\n",
    "    predicted_ids = tf.squeeze(predicted_ids, axis=-1)\n",
    "    \n",
    "    # Convert from token ids to characters\n",
    "    predicted_chars = self.chars_from_ids(predicted_ids)\n",
    "\n",
    "    # Return the characters and model state.\n",
    "    return predicted_chars, states"
   ]
  },
  {
   "cell_type": "code",
   "execution_count": null,
   "metadata": {
    "execution": {
     "iopub.execute_input": "2021-01-08T06:04:36.625357Z",
     "iopub.status.busy": "2021-01-08T06:04:36.624759Z",
     "iopub.status.idle": "2021-01-08T06:04:36.633922Z",
     "shell.execute_reply": "2021-01-08T06:04:36.634289Z"
    },
    "id": "fqMOuDutnOxK"
   },
   "outputs": [],
   "source": [
    "one_step_model = OneStep(model, chars_from_ids, ids_from_chars)"
   ]
  },
  {
   "cell_type": "code",
   "execution_count": null,
   "metadata": {
    "execution": {
     "iopub.execute_input": "2021-01-08T06:04:36.678580Z",
     "iopub.status.busy": "2021-01-08T06:04:36.640134Z",
     "iopub.status.idle": "2021-01-08T06:04:39.108712Z",
     "shell.execute_reply": "2021-01-08T06:04:39.109121Z"
    },
    "id": "ST7PSyk9t1mT"
   },
   "outputs": [],
   "source": [
    "start = time.time()\n",
    "states = None\n",
    "next_char = tf.constant(['ROMEO:'])\n",
    "result = [next_char]\n",
    "\n",
    "for n in range(1000):\n",
    "  next_char, states = one_step_model.generate_one_step(next_char, states=states)\n",
    "  result.append(next_char)\n",
    "\n",
    "result = tf.strings.join(result)\n",
    "end = time.time()\n",
    "\n",
    "print(result[0].numpy().decode('utf-8'), '\\n\\n' + '_'*80)\n",
    "\n",
    "print(f\"\\nRun time: {end - start}\")"
   ]
  },
  {
   "cell_type": "code",
   "execution_count": null,
   "metadata": {
    "execution": {
     "iopub.execute_input": "2021-01-08T06:04:39.116678Z",
     "iopub.status.busy": "2021-01-08T06:04:39.115095Z",
     "iopub.status.idle": "2021-01-08T06:04:41.354155Z",
     "shell.execute_reply": "2021-01-08T06:04:41.354594Z"
    },
    "id": "ZkLu7Y8UCMT7"
   },
   "outputs": [],
   "source": [
    "start = time.time()\n",
    "states = None\n",
    "next_char = tf.constant(['ROMEO:', 'ROMEO:', 'ROMEO:', 'ROMEO:', 'ROMEO:'])\n",
    "result = [next_char]\n",
    "\n",
    "for n in range(1000):\n",
    "  next_char, states = one_step_model.generate_one_step(next_char, states=states)\n",
    "  result.append(next_char)\n",
    "\n",
    "result = tf.strings.join(result)\n",
    "end = time.time()\n",
    "\n",
    "print(result, '\\n\\n' + '_'*80)\n",
    "\n",
    "\n",
    "print(f\"\\nRun time: {end - start}\")"
   ]
  },
  {
   "cell_type": "markdown",
   "metadata": {
    "id": "UlUQzwu6EXam"
   },
   "source": [
    "#### Export the generator\n",
    "\n",
    "This single-step model can easily be [saved and restored](https://www.tensorflow.org/guide/saved_model), allowing you to use it anywhere a `tf.saved_model` is accepted."
   ]
  },
  {
   "cell_type": "code",
   "execution_count": null,
   "metadata": {
    "execution": {
     "iopub.execute_input": "2021-01-08T06:04:41.359040Z",
     "iopub.status.busy": "2021-01-08T06:04:41.358496Z",
     "iopub.status.idle": "2021-01-08T06:04:47.734039Z",
     "shell.execute_reply": "2021-01-08T06:04:47.734426Z"
    },
    "id": "3Grk32H_CzsC"
   },
   "outputs": [],
   "source": [
    "tf.saved_model.save(one_step_model, 'one_step')\n",
    "one_step_reloaded = tf.saved_model.load('one_step')"
   ]
  },
  {
   "cell_type": "code",
   "execution_count": null,
   "metadata": {
    "execution": {
     "iopub.execute_input": "2021-01-08T06:04:47.741563Z",
     "iopub.status.busy": "2021-01-08T06:04:47.739809Z",
     "iopub.status.idle": "2021-01-08T06:04:48.050749Z",
     "shell.execute_reply": "2021-01-08T06:04:48.050132Z"
    },
    "id": "_Z9bb_wX6Uuu"
   },
   "outputs": [],
   "source": [
    "states = None\n",
    "next_char = tf.constant(['ROMEO:'])\n",
    "result = [next_char]\n",
    "\n",
    "for n in range(100):\n",
    "  next_char, states = one_step_reloaded.generate_one_step(next_char, states=states)\n",
    "  result.append(next_char)\n",
    "\n",
    "print(tf.strings.join(result)[0].numpy().decode(\"utf-8\"))"
   ]
  }
 ],
 "metadata": {
  "accelerator": "GPU",
  "colab": {
   "collapsed_sections": [],
   "name": "text_generation.ipynb",
   "toc_visible": true
  },
  "kernelspec": {
   "display_name": "conda_tensorflow2_p36",
   "language": "python",
   "name": "conda_tensorflow2_p36"
  },
  "language_info": {
   "codemirror_mode": {
    "name": "ipython",
    "version": 3
   },
   "file_extension": ".py",
   "mimetype": "text/x-python",
   "name": "python",
   "nbconvert_exporter": "python",
   "pygments_lexer": "ipython3",
   "version": "3.6.10"
  }
 },
 "nbformat": 4,
 "nbformat_minor": 4
}
