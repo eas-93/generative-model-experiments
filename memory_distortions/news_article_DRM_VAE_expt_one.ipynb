{
 "cells": [
  {
   "cell_type": "markdown",
   "metadata": {},
   "source": [
    "### Modelling memory distortions with a variational autoencoder: DRM experiment using news articles dataset\n",
    "\n",
    "The Deese-Roediger-McDermott task is a classic way to measure memory distortion. This notebook tries to recreate the human results in VAE and AE models.\n",
    "\n",
    "Steps:\n",
    "* Process dataset of CNN / Daily Mail news articles (https://www.tensorflow.org/datasets/catalog/cnn_dailymail) into lists of words (ignoring order)\n",
    "* Vectorize these (into vectors of word counts, removing most common and least common to reduce dimension)\n",
    "* Train VAE and normal AE to reconstruct word vectors\n",
    "* Explore whether we see 'intrusion of semantically related items' when network recalls a list\n",
    "* Use the word lists at https://www3.nd.edu/~memory/OLD/Materials/DRM.pdf to test this - are the lure words falsely recalled?\n",
    "* Explore what generating word lists from latent space tells us about the 'semantic memory' of the network"
   ]
  },
  {
   "cell_type": "code",
   "execution_count": null,
   "metadata": {},
   "outputs": [],
   "source": [
    "!pip install tensorflow==2.2.0\n",
    "!pip install tensorflow_datasets"
   ]
  },
  {
   "cell_type": "code",
   "execution_count": 1,
   "metadata": {},
   "outputs": [],
   "source": [
    "import pandas as pd\n",
    "from sklearn.feature_extraction.text import CountVectorizer\n",
    "import tensorflow_datasets as tfds\n",
    "import matplotlib.pyplot as plt\n",
    "import numpy as np\n",
    "import tensorflow as tf\n",
    "from tensorflow import keras\n",
    "from tensorflow.keras import layers"
   ]
  },
  {
   "cell_type": "markdown",
   "metadata": {},
   "source": [
    "#### Load data and preprocess"
   ]
  },
  {
   "cell_type": "code",
   "execution_count": 2,
   "metadata": {},
   "outputs": [
    {
     "name": "stdout",
     "output_type": "stream",
     "text": [
      "287113\n"
     ]
    }
   ],
   "source": [
    "ds = tfds.load('cnn_dailymail', split='train')\n",
    "\n",
    "articles = []\n",
    "for example in ds: \n",
    "    articles.append(example[\"article\"].numpy().decode(\"utf-8\"))\n",
    "    \n",
    "print(len(articles))"
   ]
  },
  {
   "cell_type": "code",
   "execution_count": 4,
   "metadata": {},
   "outputs": [],
   "source": [
    "texts = articles[0:100000]"
   ]
  },
  {
   "cell_type": "markdown",
   "metadata": {},
   "source": [
    "The cell below vectorizes the articles - it turns 'word1 word2 word3' into a vector with 1 at index for word1, 1 at index for word2, and 1 at index for word3. vectorizer.vocabulary_ stores the mapping of words to indices.\n",
    "\n",
    "To make the vocabulary manageable, I filter out words in greater than 20% or fewer than 1% of documents:"
   ]
  },
  {
   "cell_type": "code",
   "execution_count": 5,
   "metadata": {},
   "outputs": [
    {
     "name": "stdout",
     "output_type": "stream",
     "text": [
      "4316\n"
     ]
    }
   ],
   "source": [
    "vectorizer = CountVectorizer(max_df=0.2, min_df=0.01)\n",
    "X = vectorizer.fit_transform(texts)\n",
    "print(len(vectorizer.get_feature_names()))"
   ]
  },
  {
   "cell_type": "code",
   "execution_count": 7,
   "metadata": {},
   "outputs": [
    {
     "data": {
      "text/plain": [
       "array([0, 0, 0, ..., 0, 0, 0])"
      ]
     },
     "execution_count": 7,
     "metadata": {},
     "output_type": "execute_result"
    }
   ],
   "source": [
    "x_train = X.toarray()\n",
    "x_train[0]"
   ]
  },
  {
   "cell_type": "markdown",
   "metadata": {},
   "source": [
    "The inverse_transform function reverses the vectorisation:"
   ]
  },
  {
   "cell_type": "code",
   "execution_count": 8,
   "metadata": {},
   "outputs": [
    {
     "data": {
      "text/plain": [
       "[array(['14', '2013', '15', 'late', 'anyone', 'alert', 'murder', 'known',\n",
       "        'pose', 'released', 'woman', 'death', 'white', 'contact', 'danger',\n",
       "        'able', 'although', 'following', 'hope', 'arrest', 'current',\n",
       "        'danny', 'centre', 'wife', 'husband', 'area', 'fear', 'asked',\n",
       "        'public', 'town', 'incident', 'looking', 'spokesman', 'wanted',\n",
       "        'flat', 'jane', 'images', 'call', 'launched', 'connection', '19',\n",
       "        'approach', 'leave', 'ex', 'threat', 'murdered', 'body', 'dead',\n",
       "        '18', 'considered', 'ms', 'regular', 'august', 'close', 'hair',\n",
       "        'keen', 'friday', 'officers', 'build', '08', 'discovered', 'knew',\n",
       "        'described', 'knows', 'wish', 'hunting', 'force', 'track',\n",
       "        'appears', 'warn', 'inquiry', '57', '34', '02', 'grey', 'frequent'],\n",
       "       dtype='<U15')]"
      ]
     },
     "execution_count": 8,
     "metadata": {},
     "output_type": "execute_result"
    }
   ],
   "source": [
    "vectorizer.inverse_transform(X[150])"
   ]
  },
  {
   "cell_type": "markdown",
   "metadata": {},
   "source": [
    "#### Function to build VAE:"
   ]
  },
  {
   "cell_type": "code",
   "execution_count": 39,
   "metadata": {},
   "outputs": [
    {
     "name": "stdout",
     "output_type": "stream",
     "text": [
      "Model: \"encoder\"\n",
      "__________________________________________________________________________________________________\n",
      "Layer (type)                    Output Shape         Param #     Connected to                     \n",
      "==================================================================================================\n",
      "input_3 (InputLayer)            [(None, 4316)]       0                                            \n",
      "__________________________________________________________________________________________________\n",
      "z_mean (Dense)                  (None, 1000)         4317000     input_3[0][0]                    \n",
      "__________________________________________________________________________________________________\n",
      "z_log_var (Dense)               (None, 1000)         4317000     input_3[0][0]                    \n",
      "__________________________________________________________________________________________________\n",
      "sampling_1 (Sampling)           (None, 1000)         0           z_mean[0][0]                     \n",
      "                                                                 z_log_var[0][0]                  \n",
      "==================================================================================================\n",
      "Total params: 8,634,000\n",
      "Trainable params: 8,634,000\n",
      "Non-trainable params: 0\n",
      "__________________________________________________________________________________________________\n",
      "Model: \"decoder\"\n",
      "_________________________________________________________________\n",
      "Layer (type)                 Output Shape              Param #   \n",
      "=================================================================\n",
      "input_4 (InputLayer)         [(None, 1000)]            0         \n",
      "_________________________________________________________________\n",
      "dense_1 (Dense)              (None, 4316)              4320316   \n",
      "=================================================================\n",
      "Total params: 4,320,316\n",
      "Trainable params: 4,320,316\n",
      "Non-trainable params: 0\n",
      "_________________________________________________________________\n"
     ]
    }
   ],
   "source": [
    "# Set the dimension of the latent space, i.e. number of latent variables\n",
    "latent_dim = 1000\n",
    "input_dim = len(vectorizer.get_feature_names())\n",
    "\n",
    "## Create a sampling layer\n",
    "\n",
    "class Sampling(layers.Layer):\n",
    "    # Uses (z_mean, z_log_var) to sample z, the vector encoding a digit.\n",
    "\n",
    "    def call(self, inputs):\n",
    "        z_mean, z_log_var = inputs\n",
    "        batch = tf.shape(z_mean)[0]\n",
    "        dim = tf.shape(z_mean)[1]\n",
    "        epsilon = tf.keras.backend.random_normal(shape=(batch, dim))\n",
    "        return z_mean + tf.exp(0.5 * z_log_var) * epsilon\n",
    "\n",
    "## Build the encoder\n",
    "\n",
    "encoder_inputs = keras.Input(shape=(input_dim,))\n",
    "z_mean = layers.Dense(latent_dim, name=\"z_mean\")(encoder_inputs)\n",
    "z_log_var = layers.Dense(latent_dim, name=\"z_log_var\")(encoder_inputs)\n",
    "# This uses the special sampling layer defined above:\n",
    "z = Sampling()([z_mean, z_log_var])\n",
    "encoder = keras.Model(encoder_inputs, [z_mean, z_log_var, z], name=\"encoder\")\n",
    "# Prints the structure of the model below:\n",
    "encoder.summary()\n",
    "\n",
    "## Build the decoder\n",
    "\n",
    "latent_inputs = keras.Input(shape=(latent_dim,))\n",
    "decoder_outputs = layers.Dense(input_dim, activation=\"relu\")(latent_inputs)\n",
    "decoder = keras.Model(latent_inputs, decoder_outputs, name=\"decoder\")\n",
    "# Prints the structure of the model below:\n",
    "decoder.summary()"
   ]
  },
  {
   "cell_type": "code",
   "execution_count": 40,
   "metadata": {},
   "outputs": [],
   "source": [
    "## Define the VAE as a `Model` with a custom `train_step` \n",
    "# In inherits from the keras Model class, giving it all the properties of a usual keras model\n",
    "\n",
    "class VAE(keras.Model):\n",
    "    def __init__(self, encoder, decoder, **kwargs):\n",
    "        super(VAE, self).__init__(**kwargs)\n",
    "        self.encoder = encoder\n",
    "        self.decoder = decoder\n",
    "\n",
    "    def train_step(self, data):\n",
    "        if isinstance(data, tuple):\n",
    "            data = data[0]\n",
    "        with tf.GradientTape() as tape:\n",
    "            z_mean, z_log_var, z = self.encoder(data)\n",
    "            reconstruction = self.decoder(z)\n",
    "            reconstruction_loss = tf.reduce_mean(\n",
    "                keras.losses.binary_crossentropy(data, reconstruction)\n",
    "            )\n",
    "            reconstruction_loss *= input_dim\n",
    "            kl_loss = 1 + z_log_var - tf.square(z_mean) - tf.exp(z_log_var)\n",
    "            kl_loss = tf.reduce_mean(kl_loss)\n",
    "            kl_loss *= -0.5\n",
    "            total_loss = reconstruction_loss + 0.01*kl_loss\n",
    "        grads = tape.gradient(total_loss, self.trainable_weights)\n",
    "        self.optimizer.apply_gradients(zip(grads, self.trainable_weights))\n",
    "        return {\n",
    "            \"loss\": total_loss,\n",
    "            \"reconstruction_loss\": reconstruction_loss,\n",
    "            \"kl_loss\": kl_loss,\n",
    "        }\n"
   ]
  },
  {
   "cell_type": "code",
   "execution_count": 41,
   "metadata": {},
   "outputs": [
    {
     "name": "stdout",
     "output_type": "stream",
     "text": [
      "Epoch 1/20\n",
      "1563/1563 [==============================] - 6s 4ms/step - loss: 3398.6217 - reconstruction_loss: 3398.6018 - kl_loss: 1.9910\n",
      "Epoch 2/20\n",
      "1563/1563 [==============================] - 5s 4ms/step - loss: 61988241.2188 - reconstruction_loss: 3364.6348 - kl_loss: 6198488120.5482\n",
      "Epoch 3/20\n",
      "1563/1563 [==============================] - 5s 4ms/step - loss: 12371.8121 - reconstruction_loss: 3425.6717 - kl_loss: 894614.1119\n",
      "Epoch 4/20\n",
      "1563/1563 [==============================] - 5s 4ms/step - loss: 6056.1815 - reconstruction_loss: 3412.3722 - kl_loss: 264380.9510\n",
      "Epoch 5/20\n",
      "1563/1563 [==============================] - 5s 4ms/step - loss: 430932.1496 - reconstruction_loss: 3349.4788 - kl_loss: 42758267.2040\n",
      "Epoch 6/20\n",
      "1563/1563 [==============================] - 6s 4ms/step - loss: 292438.5698 - reconstruction_loss: 3324.1277 - kl_loss: 28911445.3864\n",
      "Epoch 7/20\n",
      "1563/1563 [==============================] - 5s 4ms/step - loss: 7159.1623 - reconstruction_loss: 3278.3963 - kl_loss: 388076.6017\n",
      "Epoch 8/20\n",
      "1563/1563 [==============================] - 6s 4ms/step - loss: 33083.7536 - reconstruction_loss: 3238.3502 - kl_loss: 2984540.3960\n",
      "Epoch 9/20\n",
      "1563/1563 [==============================] - 5s 4ms/step - loss: 672984.2215 - reconstruction_loss: 3236.1231 - kl_loss: 66974813.1398\n",
      "Epoch 10/20\n",
      "1563/1563 [==============================] - 5s 4ms/step - loss: 63688.2945 - reconstruction_loss: 3193.6945 - kl_loss: 6049459.8101\n",
      "Epoch 11/20\n",
      "1563/1563 [==============================] - 5s 4ms/step - loss: 46152.0695 - reconstruction_loss: 3182.2486 - kl_loss: 4296982.2479\n",
      "Epoch 12/20\n",
      "1563/1563 [==============================] - 5s 4ms/step - loss: 4543.0366 - reconstruction_loss: 3181.9342 - kl_loss: 136110.2396\n",
      "Epoch 13/20\n",
      "1563/1563 [==============================] - 5s 4ms/step - loss: 12188.9521 - reconstruction_loss: 3164.7730 - kl_loss: 902417.9337\n",
      "Epoch 14/20\n",
      "1563/1563 [==============================] - 5s 4ms/step - loss: 152979.5259 - reconstruction_loss: 3135.2467 - kl_loss: 14984428.5792\n",
      "Epoch 15/20\n",
      "1563/1563 [==============================] - 5s 4ms/step - loss: 13548541.5724 - reconstruction_loss: 3138.5862 - kl_loss: 1354540288.1496\n",
      "Epoch 16/20\n",
      "1563/1563 [==============================] - 5s 4ms/step - loss: 658879.1069 - reconstruction_loss: 3125.4198 - kl_loss: 65575367.9669\n",
      "Epoch 17/20\n",
      "1563/1563 [==============================] - 5s 4ms/step - loss: 24064389.2872 - reconstruction_loss: 3108.1154 - kl_loss: 2406128173.0814\n",
      "Epoch 18/20\n",
      "1563/1563 [==============================] - 5s 4ms/step - loss: 3296092825.6107 - reconstruction_loss: 3101.6776 - kl_loss: 329608972624.8106\n",
      "Epoch 19/20\n",
      "1563/1563 [==============================] - 6s 4ms/step - loss: 4350073.5189 - reconstruction_loss: 3085.6473 - kl_loss: 434698809.1329\n",
      "Epoch 20/20\n",
      "1563/1563 [==============================] - 5s 4ms/step - loss: 672550.4869 - reconstruction_loss: 3085.6399 - kl_loss: 66946489.3709\n"
     ]
    },
    {
     "data": {
      "text/plain": [
       "<tensorflow.python.keras.callbacks.History at 0x7f6cc87f3860>"
      ]
     },
     "execution_count": 41,
     "metadata": {},
     "output_type": "execute_result"
    }
   ],
   "source": [
    "vae = VAE(encoder, decoder)\n",
    "vae.compile(optimizer=keras.optimizers.Adam())\n",
    "vae.fit(x_train, epochs=20, batch_size=64)"
   ]
  },
  {
   "cell_type": "code",
   "execution_count": 42,
   "metadata": {},
   "outputs": [
    {
     "data": {
      "text/plain": [
       "array([0, 0, 0, ..., 0, 0, 0])"
      ]
     },
     "execution_count": 42,
     "metadata": {},
     "output_type": "execute_result"
    }
   ],
   "source": [
    "x_train[0]"
   ]
  },
  {
   "cell_type": "code",
   "execution_count": 50,
   "metadata": {},
   "outputs": [],
   "source": [
    "def recall_list(test_item):\n",
    "    encoded = vae.encoder.predict(vectorizer.transform([test_item]))\n",
    "    decoded = vae.decoder.predict(encoded)\n",
    "\n",
    "    word_lookup = {v:k for k,v in vectorizer.vocabulary_.items()}\n",
    "\n",
    "    for index in np.argsort(-decoded)[0][0:10]:\n",
    "        print(word_lookup[index])"
   ]
  },
  {
   "cell_type": "code",
   "execution_count": 53,
   "metadata": {},
   "outputs": [
    {
     "name": "stdout",
     "output_type": "stream",
     "text": [
      "health\n",
      "medical\n",
      "hospital\n",
      "doctor\n",
      "patients\n",
      "doctors\n",
      "hospitals\n",
      "treatment\n",
      "risk\n",
      "disease\n"
     ]
    }
   ],
   "source": [
    "recall_list(\"health doctor hospital medical medicine treat\")"
   ]
  },
  {
   "cell_type": "code",
   "execution_count": 54,
   "metadata": {},
   "outputs": [
    {
     "name": "stdout",
     "output_type": "stream",
     "text": [
      "states\n",
      "united\n",
      "washington\n",
      "american\n",
      "president\n",
      "leader\n",
      "obama\n",
      "office\n",
      "federal\n",
      "house\n"
     ]
    }
   ],
   "source": [
    "recall_list(\"usa states united president congress senate\")"
   ]
  },
  {
   "cell_type": "markdown",
   "metadata": {},
   "source": [
    "#### Load DRM word lists\n",
    "\n",
    "Load subset of lists from https://www3.nd.edu/~memory/OLD/Materials/DRM.pdf"
   ]
  },
  {
   "cell_type": "code",
   "execution_count": 45,
   "metadata": {},
   "outputs": [],
   "source": [
    "DRM_lists = []\n",
    "lures = []\n",
    "\n",
    "DRM_lists.append(['STEAL', 'ROBBER', 'JAIL', 'VILLAIN', 'BANDIT', 'CRIMINAL', 'ROB','COP', 'MONEY', 'BAD', 'BURGLAR', 'CROOK', 'CRIME', 'GUN', 'BANK'])\n",
    "lures.append('THIEF')\n",
    "\n",
    "DRM_lists.append(['CLINIC', 'HEALTH', 'MEDICINE', 'SICK', 'STETHOSCOPE', 'CURE', 'NURSE', 'SURGEON', 'PATIENT', 'HOSPITAL', 'DENTIST', 'PHYSICIAN', 'ILL'])\n",
    "lures.append('DOCTOR')\n",
    "\n",
    "DRM_lists.append(['CHILLY', 'HOT', 'WET', 'WINTER', 'FREEZE', 'FRIGID', 'HEAT', 'SNOW', 'ARCTIC', 'AIR', 'WEATHER', 'SHIVER', 'ICE', 'FROST', 'WARM'])\n",
    "lures.append('COLD')"
   ]
  },
  {
   "cell_type": "code",
   "execution_count": 46,
   "metadata": {},
   "outputs": [
    {
     "name": "stdout",
     "output_type": "stream",
     "text": [
      "Words in DRM list for lure 'thief':\n",
      "['jail', 'criminal', 'rob', 'money', 'bad', 'crime', 'gun', 'bank']\n",
      "Recalled list:\n",
      "['bank', 'money', 'criminal', 'shot', '2013', 'accused', 'economic', 'london', 've', 'britain', 'tax', 'officers', 'public', 'head', 'court', 'leg', 'use', 'your', 'assault', 'men']\n",
      "...........\n",
      "Words in DRM list for lure 'doctor':\n",
      "['clinic', 'health', 'medicine', 'sick', 'nurse', 'patient', 'hospital', 'ill']\n",
      "Recalled list:\n",
      "['health', 'hospital', 'doctors', 'hospitals', 'patients', 'treatment', 'doctor', 'hours', 'risk', 'medical', 'disease', 'care', 'countries', 'reported', 'africa', 'general', 'condition', 'women', 'cases', 'baby']\n",
      "...........\n",
      "Words in DRM list for lure 'cold':\n",
      "['hot', 'wet', 'winter', 'heat', 'snow', 'air', 'weather', 'ice', 'warm']\n",
      "Recalled list:\n",
      "['north', 'weather', 'across', 'northern', 'west', 'cold', 'change', 'office', 'london', 'water', '2013', 'scotland', 'rain', 'britain', 'park', 'great', 'areas', 'british', 'use', 'space']\n",
      "...........\n"
     ]
    }
   ],
   "source": [
    "for ind, DRM_list in enumerate(DRM_lists):\n",
    "    in_vocab = [i.lower() for i in DRM_list if i.lower() in vectorizer.vocabulary_.keys()]\n",
    "    print(\"Words in DRM list for lure '{}':\".format(lures[ind].lower()))\n",
    "    print(in_vocab)\n",
    "    test_item = ' '.join([i.lower() for i in DRM_list])\n",
    "    encoded = vae.encoder.predict(vectorizer.transform([test_item]))\n",
    "    decoded = vae.decoder.predict(encoded)\n",
    "    print(\"Recalled list:\")\n",
    "    top_words = [word_lookup[index] for index in np.argsort(-decoded)[0][0:20]]\n",
    "    print(top_words)\n",
    "    print(\"...........\")\n",
    "    "
   ]
  },
  {
   "cell_type": "markdown",
   "metadata": {},
   "source": [
    "### Basic autoencoder for comparison\n",
    "\n",
    "Compare VAE with standard AE."
   ]
  },
  {
   "cell_type": "code",
   "execution_count": 58,
   "metadata": {},
   "outputs": [
    {
     "name": "stdout",
     "output_type": "stream",
     "text": [
      "Epoch 1/10\n",
      "391/391 [==============================] - 3s 7ms/step - loss: -0.8083\n",
      "Epoch 2/10\n",
      "391/391 [==============================] - 3s 7ms/step - loss: -12.7520\n",
      "Epoch 3/10\n",
      "391/391 [==============================] - 3s 7ms/step - loss: -40.5550\n",
      "Epoch 4/10\n",
      "391/391 [==============================] - 3s 7ms/step - loss: -81.4714\n",
      "Epoch 5/10\n",
      "391/391 [==============================] - 3s 7ms/step - loss: -133.7468\n",
      "Epoch 6/10\n",
      "391/391 [==============================] - 3s 7ms/step - loss: -196.2966\n",
      "Epoch 7/10\n",
      "391/391 [==============================] - 3s 7ms/step - loss: -268.2217\n",
      "Epoch 8/10\n",
      "391/391 [==============================] - 3s 7ms/step - loss: -348.9727\n",
      "Epoch 9/10\n",
      "391/391 [==============================] - 3s 7ms/step - loss: -437.6929\n",
      "Epoch 10/10\n",
      "391/391 [==============================] - 3s 7ms/step - loss: -534.3267\n"
     ]
    },
    {
     "data": {
      "text/plain": [
       "<tensorflow.python.keras.callbacks.History at 0x7f6cc84dad68>"
      ]
     },
     "execution_count": 58,
     "metadata": {},
     "output_type": "execute_result"
    }
   ],
   "source": [
    "num_words=4316\n",
    "\n",
    "input_layer = keras.Input(shape=(num_words,))\n",
    "encoded = layers.Dense(1000, activation='relu')(input_layer)\n",
    "decoded = layers.Dense(num_words, activation='sigmoid')(encoded)\n",
    "\n",
    "autoencoder = keras.Model(input_layer, decoded)\n",
    "\n",
    "encoder = keras.Model(input_layer, encoded)\n",
    "\n",
    "encoded_input = keras.Input(shape=(1000,))\n",
    "decoder_layer = autoencoder.layers[-1]\n",
    "decoder = keras.Model(encoded_input, decoder_layer(encoded_input))\n",
    "\n",
    "autoencoder.compile(optimizer='adam', loss='binary_crossentropy')\n",
    "\n",
    "autoencoder.fit(x_train, x_train,\n",
    "               epochs=10,\n",
    "               batch_size=256,\n",
    "               shuffle=True)"
   ]
  },
  {
   "cell_type": "code",
   "execution_count": 73,
   "metadata": {},
   "outputs": [],
   "source": [
    "test_item = \"usa america american states united president congress senate\"\n",
    "\n",
    "encoded = encoder.predict(vectorizer.transform([test_item]))\n",
    "decoded = decoder.predict(encoded)"
   ]
  },
  {
   "cell_type": "code",
   "execution_count": 74,
   "metadata": {},
   "outputs": [
    {
     "name": "stdout",
     "output_type": "stream",
     "text": [
      "administration\n",
      "sanctions\n",
      "russian\n",
      "russia\n",
      "gop\n",
      "government\n",
      "bush\n",
      "group\n",
      "health\n",
      "campaign\n",
      "troops\n",
      "republican\n",
      "bin\n",
      "house\n",
      "bill\n",
      "syria\n",
      "ukraine\n",
      "barack\n",
      "united\n",
      "republicans\n"
     ]
    }
   ],
   "source": [
    "word_lookup = {v:k for k,v in vectorizer.vocabulary_.items()}\n",
    "\n",
    "for index in np.argsort(-decoded)[0][0:20]:\n",
    "    print(word_lookup[index])"
   ]
  },
  {
   "cell_type": "code",
   "execution_count": 76,
   "metadata": {},
   "outputs": [
    {
     "name": "stdout",
     "output_type": "stream",
     "text": [
      "Words in DRM list for lure 'thief':\n",
      "['jail', 'criminal', 'rob', 'money', 'bad', 'crime', 'gun', 'bank']\n",
      "Recalled list:\n",
      "['animal', 'financial', 'money', 'shooting', 'animals', 'murder', 'death', 'food', 'property', 'judge', 'ford', 'company', 'million', 'fraud', 'prison', 'car', 'drugs', 'drug', 'guns', 'case']\n",
      "...........\n",
      "Words in DRM list for lure 'doctor':\n",
      "['clinic', 'health', 'medicine', 'sick', 'nurse', 'patient', 'hospital', 'ill']\n",
      "Recalled list:\n",
      "['officials', 'africa', 'blood', 'per', 'patients', 'patient', 'passengers', 'hospitals', 'nurse', 'nhs', 'ms', 'food', 'cancer', 'mrs', 'mother', 'care', 'cases', 'medical', 'cent', 'treatment']\n",
      "...........\n",
      "Words in DRM list for lure 'cold':\n",
      "['hot', 'wet', 'winter', 'heat', 'snow', 'air', 'weather', 'ice', 'warm']\n",
      "Recalled list:\n",
      "['service', 'winter', 'uk', 'air', 'aircraft', 'tuesday', 'airlines', 'airport', 'car', 'expected', 'power', 'climate', 'woman', 'frozen', 'lake', 'county', 'london', 'heavy', 'hit', 'winds']\n",
      "...........\n"
     ]
    }
   ],
   "source": [
    "for ind, DRM_list in enumerate(DRM_lists):\n",
    "    in_vocab = [i.lower() for i in DRM_list if i.lower() in vectorizer.vocabulary_.keys()]\n",
    "    print(\"Words in DRM list for lure '{}':\".format(lures[ind].lower()))\n",
    "    print(in_vocab)\n",
    "    test_item = ' '.join([i.lower() for i in DRM_list])\n",
    "    encoded = encoder.predict(vectorizer.transform([test_item]))\n",
    "    decoded = decoder.predict(encoded)\n",
    "    print(\"Recalled list:\")\n",
    "    top_words = [word_lookup[index] for index in np.argsort(-decoded)[0][0:20]]\n",
    "    print(top_words)\n",
    "    print(\"...........\")\n",
    "    "
   ]
  }
 ],
 "metadata": {
  "kernelspec": {
   "display_name": "conda_amazonei_tensorflow2_p36",
   "language": "python",
   "name": "conda_amazonei_tensorflow2_p36"
  },
  "language_info": {
   "codemirror_mode": {
    "name": "ipython",
    "version": 3
   },
   "file_extension": ".py",
   "mimetype": "text/x-python",
   "name": "python",
   "nbconvert_exporter": "python",
   "pygments_lexer": "ipython3",
   "version": "3.6.10"
  }
 },
 "nbformat": 4,
 "nbformat_minor": 4
}
