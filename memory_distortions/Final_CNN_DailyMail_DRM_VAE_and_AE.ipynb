{
 "cells": [
  {
   "cell_type": "markdown",
   "metadata": {},
   "source": [
    "### Modelling memory distortions with a variational autoencoder: DRM experiment using news articles dataset\n",
    "\n",
    "The Deese-Roediger-McDermott task is a classic way to measure memory distortion. This notebook tries to recreate the human results in VAE and AE models.\n",
    "\n",
    "Steps:\n",
    "* Process dataset of CNN / Daily Mail news articles (https://www.tensorflow.org/datasets/catalog/cnn_dailymail) into lists of words (ignoring order)\n",
    "* Vectorize these (into vectors of word counts, removing most common and least common to reduce dimension)\n",
    "* Train VAE and normal AE to reconstruct word vectors\n",
    "* Explore whether we see 'intrusion of semantically related items' when network recalls a list\n",
    "* Use the word lists at https://www3.nd.edu/~memory/OLD/Materials/DRM.pdf to test this - are the lure words falsely recalled?\n",
    "* Explore what generating word lists from latent space tells us about the 'semantic memory' of the network"
   ]
  },
  {
   "cell_type": "code",
   "execution_count": null,
   "metadata": {
    "jupyter": {
     "outputs_hidden": true
    }
   },
   "outputs": [],
   "source": [
    "!pip install tensorflow==2.3.1\n",
    "!pip install tensorflow_datasets"
   ]
  },
  {
   "cell_type": "code",
   "execution_count": 904,
   "metadata": {},
   "outputs": [],
   "source": [
    "import pandas as pd\n",
    "from sklearn.feature_extraction.text import CountVectorizer\n",
    "import tensorflow_datasets as tfds\n",
    "import matplotlib.pyplot as plt\n",
    "import numpy as np\n",
    "import tensorflow as tf\n",
    "from tensorflow import keras\n",
    "from tensorflow.keras import layers\n",
    "\n",
    "tf.random.set_seed(1234)"
   ]
  },
  {
   "cell_type": "markdown",
   "metadata": {},
   "source": [
    "#### Load data and preprocess\n",
    "\n",
    "Each article has a time ID and place ID to represent the context of a memory.\n",
    "\n",
    "This is provided by adding 'PLACE_ID_X TIME_ID_Y' to the start of the article."
   ]
  },
  {
   "cell_type": "code",
   "execution_count": 408,
   "metadata": {},
   "outputs": [
    {
     "name": "stdout",
     "output_type": "stream",
     "text": [
      "287113\n"
     ]
    }
   ],
   "source": [
    "ds = tfds.load('cnn_dailymail', split='train')\n",
    "\n",
    "articles = []\n",
    "for example in ds: \n",
    "    articles.append(example[\"article\"].numpy().decode(\"utf-8\"))\n",
    "    \n",
    "print(len(articles))"
   ]
  },
  {
   "cell_type": "markdown",
   "metadata": {},
   "source": [
    "#### Load DRM word lists\n",
    "\n",
    "Load subset of lists from https://www3.nd.edu/~memory/OLD/Materials/DRM.pdf"
   ]
  },
  {
   "cell_type": "code",
   "execution_count": 409,
   "metadata": {},
   "outputs": [],
   "source": [
    "DRM_lists = []\n",
    "lures = []\n",
    "\n",
    "DRM_lists.append(['STEAL', 'ROBBER', 'JAIL', 'VILLAIN', 'BANDIT', 'CRIMINAL', 'ROB','COP', 'MONEY', 'BAD', 'BURGLAR', 'CROOK', 'CRIME', 'GUN', 'BANK'])\n",
    "lures.append('THIEF')\n",
    "\n",
    "DRM_lists.append(['CLINIC', 'HEALTH', 'MEDICINE', 'SICK', 'STETHOSCOPE', 'CURE', 'NURSE', 'SURGEON', 'PATIENT', 'HOSPITAL', 'DENTIST', 'PHYSICIAN', 'ILL'])\n",
    "lures.append('DOCTOR')\n",
    "\n",
    "DRM_lists.append(['CHILLY', 'HOT', 'WET', 'WINTER', 'FREEZE', 'FRIGID', 'HEAT', 'SNOW', 'ARCTIC', 'AIR', 'WEATHER', 'SHIVER', 'ICE', 'FROST', 'WARM'])\n",
    "lures.append('COLD')\n",
    "\n",
    "DRM_lists.append(['truck', 'bus', 'train', 'automobile', 'vehicle', 'drive', 'jeep', 'Ford', 'race', 'keys', 'garage', 'highway', 'sedan', 'van', 'taxi'])\n",
    "lures.append('car')\n",
    "\n",
    "DRM_lists.append(['bed', 'rest', 'awake', 'tired', 'dream', 'wake', 'snooze', 'blanket', 'doze', 'slumber', 'snore', 'nap', 'peace', 'yawn', 'drowsy'])\n",
    "lures.append('sleep')"
   ]
  },
  {
   "cell_type": "code",
   "execution_count": 410,
   "metadata": {},
   "outputs": [
    {
     "name": "stdout",
     "output_type": "stream",
     "text": [
      "10651500\n"
     ]
    }
   ],
   "source": [
    "all_sents = []\n",
    "\n",
    "for a in articles:\n",
    "    sents = a.split('. ')\n",
    "    all_sents.extend(sents)\n",
    "    \n",
    "print(len(all_sents))"
   ]
  },
  {
   "cell_type": "code",
   "execution_count": 624,
   "metadata": {},
   "outputs": [],
   "source": [
    "def check_lures(article, lure_list):\n",
    "    for l in lure_list:\n",
    "        if ' {} '.format(l.lower()) in article.lower():\n",
    "            return True\n",
    "    return False\n",
    "\n",
    "filtered = [i for i in all_sents if check_lures(i, lures)==True]\n",
    "\n",
    "flat_DRM = [item for sublist in DRM_lists for item in sublist]\n",
    "filtered = [i for i in filtered if check_lures(i, flat_DRM)==True]"
   ]
  },
  {
   "cell_type": "code",
   "execution_count": 625,
   "metadata": {},
   "outputs": [
    {
     "data": {
      "text/plain": [
       "17161"
      ]
     },
     "execution_count": 625,
     "metadata": {},
     "output_type": "execute_result"
    }
   ],
   "source": [
    "len(filtered)"
   ]
  },
  {
   "cell_type": "code",
   "execution_count": 626,
   "metadata": {},
   "outputs": [
    {
     "name": "stdout",
     "output_type": "stream",
     "text": [
      "THIEF\n",
      "308\n",
      "DOCTOR\n",
      "2531\n",
      "COLD\n",
      "3525\n",
      "car\n",
      "10108\n",
      "sleep\n",
      "1548\n",
      "THIEF\n",
      "312\n",
      "DOCTOR\n",
      "539\n",
      "COLD\n",
      "533\n",
      "car\n",
      "736\n",
      "sleep\n",
      "524\n"
     ]
    }
   ],
   "source": [
    "even_filtered = []\n",
    "\n",
    "for l in lures:\n",
    "    print(l)\n",
    "    print(len([f for f in filtered if l.lower() in f.lower()]))\n",
    "    even_filtered.extend([f for f in filtered if l.lower() in f.lower()][0:500])\n",
    "    \n",
    "for l in lures:\n",
    "    print(l)\n",
    "    print(len([f for f in even_filtered if l.lower() in f.lower()]))\n",
    "    \n",
    "filtered = even_filtered"
   ]
  },
  {
   "cell_type": "code",
   "execution_count": 628,
   "metadata": {},
   "outputs": [],
   "source": [
    "texts = [' '.join(l) for l in DRM_lists] + filtered"
   ]
  },
  {
   "cell_type": "code",
   "execution_count": 629,
   "metadata": {},
   "outputs": [
    {
     "data": {
      "text/plain": [
       "2313"
      ]
     },
     "execution_count": 629,
     "metadata": {},
     "output_type": "execute_result"
    }
   ],
   "source": [
    "len(texts)"
   ]
  },
  {
   "cell_type": "markdown",
   "metadata": {},
   "source": [
    "The cell below vectorizes the articles - it turns 'word1 word2 word3' into a vector with 1 at index for word1, 1 at index for word2, and 1 at index for word3. vectorizer.vocabulary_ stores the mapping of words to indices.\n",
    "\n",
    "To make the vocabulary manageable, I filter out words in greater than or fewer than a certain number of documents:"
   ]
  },
  {
   "cell_type": "code",
   "execution_count": 631,
   "metadata": {},
   "outputs": [
    {
     "name": "stdout",
     "output_type": "stream",
     "text": [
      "691\n"
     ]
    }
   ],
   "source": [
    "vectorizer = CountVectorizer(max_df=0.5, min_df=0.005)\n",
    "X=vectorizer.fit_transform(texts)\n",
    "print(len(vectorizer.get_feature_names()))"
   ]
  },
  {
   "cell_type": "code",
   "execution_count": 633,
   "metadata": {},
   "outputs": [],
   "source": [
    "texts = [\"ID_{} \".format(ind) + ' '.join(list(vectorizer.inverse_transform(item)[0])[0:40]) if ind<20 \n",
    "         else ' '.join(list(vectorizer.inverse_transform(item)[0])[0:40]) for ind, item in enumerate(X)]"
   ]
  },
  {
   "cell_type": "code",
   "execution_count": 634,
   "metadata": {},
   "outputs": [
    {
     "name": "stdout",
     "output_type": "stream",
     "text": [
      "711\n"
     ]
    }
   ],
   "source": [
    "vectorizer = CountVectorizer()\n",
    "X = vectorizer.fit_transform(texts)\n",
    "print(len(vectorizer.get_feature_names()))"
   ]
  },
  {
   "cell_type": "code",
   "execution_count": 636,
   "metadata": {},
   "outputs": [],
   "source": [
    "x_train = X.toarray()"
   ]
  },
  {
   "cell_type": "markdown",
   "metadata": {},
   "source": [
    "#### Function to build VAE:"
   ]
  },
  {
   "cell_type": "code",
   "execution_count": 637,
   "metadata": {},
   "outputs": [],
   "source": [
    "class Sampling(layers.Layer):\n",
    "    # Uses (z_mean, z_log_var) to sample z, the vector encoding a digit.\n",
    "\n",
    "    def call(self, inputs):\n",
    "        z_mean, z_log_var = inputs\n",
    "        batch = tf.shape(z_mean)[0]\n",
    "        dim = tf.shape(z_mean)[1]\n",
    "        epsilon = tf.keras.backend.random_normal(shape=(batch, dim))\n",
    "        return z_mean + tf.exp(0.5 * z_log_var) * epsilon\n",
    "\n",
    "## Build the encoder\n",
    "def build_encoder_decoder(latent_dim=100, input_dim = len(vectorizer.get_feature_names())):\n",
    "    encoder_inputs = keras.Input(shape=(input_dim,))\n",
    "    dropped_out = layers.Dropout(0.6, name=\"dropout_layer\")(encoder_inputs)\n",
    "    z_mean = layers.Dense(latent_dim, name=\"z_mean\")(dropped_out)\n",
    "    z_log_var = layers.Dense(latent_dim, name=\"z_log_var\")(encoder_inputs)\n",
    "    # This uses the special sampling layer defined above:\n",
    "    z = Sampling()([z_mean, z_log_var])\n",
    "    encoder = keras.Model(encoder_inputs, [z_mean, z_log_var, z], name=\"encoder\")\n",
    "\n",
    "    ## Build the decoder\n",
    "    latent_inputs = keras.Input(shape=(latent_dim,))\n",
    "    decoder_outputs = layers.Dense(input_dim)(latent_inputs)\n",
    "    decoder = keras.Model(latent_inputs, decoder_outputs, name=\"decoder\")\n",
    "    \n",
    "    return encoder, decoder\n"
   ]
  },
  {
   "cell_type": "code",
   "execution_count": 662,
   "metadata": {},
   "outputs": [],
   "source": [
    "## Define the VAE as a `Model` with a custom `train_step` \n",
    "# In inherits from the keras Model class, giving it all the properties of a usual keras model\n",
    "\n",
    "class VAE(keras.Model):\n",
    "    def __init__(self, encoder, decoder, beta, **kwargs):\n",
    "        super(VAE, self).__init__(**kwargs)\n",
    "        self.encoder = encoder\n",
    "        self.decoder = decoder\n",
    "        self.beta = beta\n",
    "\n",
    "    def train_step(self, data):\n",
    "        input_dim = len(vectorizer.get_feature_names())\n",
    "        if isinstance(data, tuple):\n",
    "            data = data[0]\n",
    "        with tf.GradientTape() as tape:\n",
    "            z_mean, z_log_var, z = self.encoder(data)\n",
    "            reconstruction = self.decoder(z)\n",
    "            reconstruction_loss = tf.reduce_mean(\n",
    "                keras.losses.binary_crossentropy(data, reconstruction)\n",
    "            )\n",
    "            #reconstruction_loss *= input_dim\n",
    "            kl_loss = 1 + z_log_var - tf.square(z_mean) - tf.exp(z_log_var)\n",
    "            kl_loss = tf.reduce_mean(kl_loss)\n",
    "            kl_loss *= -0.5\n",
    "            total_loss = reconstruction_loss + self.beta*kl_loss\n",
    "        grads = tape.gradient(total_loss, self.trainable_weights)\n",
    "        self.optimizer.apply_gradients(zip(grads, self.trainable_weights))\n",
    "        return {\n",
    "            \"loss\": total_loss,\n",
    "            \"reconstruction_loss\": reconstruction_loss,\n",
    "            \"kl_loss\": kl_loss,\n",
    "        }\n"
   ]
  },
  {
   "cell_type": "code",
   "execution_count": 645,
   "metadata": {},
   "outputs": [],
   "source": [
    "def recall_list(test_item, encoder, decoder, with_scores=False):\n",
    "    word_lookup = {v:k for k,v in vectorizer.vocabulary_.items()}\n",
    "    encoded = encoder.predict(vectorizer.transform([test_item]))\n",
    "    decoded = decoder.predict(encoded)\n",
    "    \n",
    "    if with_scores == True:\n",
    "        return([(word_lookup[index], decoded[0][index]) for index in np.argsort(-decoded)[0]][0:50]) \n",
    "    else:\n",
    "        return([word_lookup[index] for index in np.argsort(-decoded)[0]][0:50])\n"
   ]
  },
  {
   "cell_type": "code",
   "execution_count": 668,
   "metadata": {
    "scrolled": true
   },
   "outputs": [],
   "source": [
    "def train_vae(eps=1000, ld=200, beta=0.0001):\n",
    "    encoder, decoder = build_encoder_decoder(latent_dim=ld)\n",
    "    vae = VAE(encoder, decoder, beta)\n",
    "    vae.compile(optimizer='adam')\n",
    "    vae.fit(x_train, epochs=eps, batch_size=128, verbose=False, shuffle=True)\n",
    "    return vae\n"
   ]
  },
  {
   "cell_type": "code",
   "execution_count": null,
   "metadata": {},
   "outputs": [],
   "source": [
    "def get_drm_results(vae):\n",
    "    lure_positions = []\n",
    "    recall_accuracies = []\n",
    "\n",
    "    for ind, DRM_list in enumerate(DRM_lists):\n",
    "        in_vocab = [i.lower() for i in DRM_list if i.lower() in vectorizer.vocabulary_.keys()]\n",
    "        print(\"Words in DRM list for lure '{}':\".format(lures[ind].lower()))\n",
    "        print(in_vocab)\n",
    "        test_item = \"id_{}\".format(ind) #' '.join([i.lower() for i in DRM_list])\n",
    "        encoded = vae.encoder.predict(vectorizer.transform([test_item]))\n",
    "        decoded = vae.decoder.predict(encoded)\n",
    "        print(\"Recalled list:\")\n",
    "        top_words = [word_lookup[index] for index in np.argsort(-decoded)[0]]\n",
    "        print(top_words[0:50])\n",
    "        print(len(top_words))\n",
    "        lure_positions.append(top_words.index(lures[ind].lower()))\n",
    "        \n",
    "        pred = top_words[0:len(in_vocab)]\n",
    "        true = in_vocab\n",
    "        correct = [p for p in pred if p in in_vocab]\n",
    "        acc = len(correct) / len(true)\n",
    "        recall_accuracies.append(acc)\n",
    "        \n",
    "        print(\"...........\")\n",
    "        \n",
    "    return lure_positions, recall_accuracies\n",
    "   "
   ]
  },
  {
   "cell_type": "markdown",
   "metadata": {},
   "source": [
    "### Plot charts"
   ]
  },
  {
   "cell_type": "code",
   "execution_count": 711,
   "metadata": {},
   "outputs": [],
   "source": [
    "vae = train_vae(eps=500, ld=100, beta=0.0005)"
   ]
  },
  {
   "cell_type": "code",
   "execution_count": 778,
   "metadata": {},
   "outputs": [
    {
     "data": {
      "text/plain": [
       "Text(0.5, 1.0, \"Recalled words for input 'id_2', \\ncorresponding to the DRM list with lure word 'cold'\")"
      ]
     },
     "execution_count": 778,
     "metadata": {},
     "output_type": "execute_result"
    },
    {
     "data": {
      "image/png": "[encoded data removed]",
      "text/plain": [
       "<Figure size 864x1296 with 3 Axes>"
      ]
     },
     "metadata": {
      "needs_background": "light"
     },
     "output_type": "display_data"
    }
   ],
   "source": [
    "fig, axs = plt.subplots(3,1, figsize=(12,18))\n",
    "fig.tight_layout(pad=100.0)\n",
    "\n",
    "recalled = recall_list('id_1', vae.encoder, vae.decoder, with_scores=True)[0:10]\n",
    "terms = [i[0] for i in recalled]\n",
    "scores = [i[1] for i in recalled]\n",
    "clrs = ['red' if x == 'doctor' else 'blue' for x in terms]\n",
    "\n",
    "axs[1].bar(terms, scores, color=clrs, alpha=0.5)\n",
    "axs[1].set_ylabel('Recall score')\n",
    "axs[1].set_title(\"Recalled words for input 'id_1', \\ncorresponding to the DRM list with lure word 'doctor'\")\n",
    "\n",
    "recalled = recall_list('id_0', vae.encoder, vae.decoder, with_scores=True)[0:10]\n",
    "terms = [i[0] for i in recalled]\n",
    "scores = [i[1] for i in recalled]\n",
    "clrs = ['red' if x == 'thief' else 'blue' for x in terms]\n",
    "\n",
    "axs[0].bar(terms, scores, color=clrs, alpha=0.5)\n",
    "axs[0].set_ylabel('Recall score')\n",
    "axs[0].set_title(\"Recalled words for input 'id_0', \\ncorresponding to the DRM list with lure word 'thief'\")\n",
    "\n",
    "recalled = recall_list('id_2', vae.encoder, vae.decoder, with_scores=True)[0:10]\n",
    "terms = [i[0] for i in recalled]\n",
    "scores = [i[1] for i in recalled]\n",
    "clrs = ['red' if x == 'cold' else 'blue' for x in terms]\n",
    "\n",
    "axs[2].bar(terms, scores, color=clrs, alpha=0.5)\n",
    "axs[2].set_ylabel('Recall score')\n",
    "axs[2].set_title(\"Recalled words for input 'id_2', \\ncorresponding to the DRM list with lure word 'cold'\")"
   ]
  },
  {
   "cell_type": "markdown",
   "metadata": {},
   "source": [
    "### Basic autoencoder for comparison\n",
    "\n",
    "Compare VAE with standard AE."
   ]
  },
  {
   "cell_type": "code",
   "execution_count": 906,
   "metadata": {
    "scrolled": true
   },
   "outputs": [],
   "source": [
    "def train_ae(n=40, opt='rmsprop', eps=1000):\n",
    "    num_words=len(vectorizer.get_feature_names())\n",
    "\n",
    "    input_layer = keras.Input(shape=(num_words,))\n",
    "    encoded = layers.Dropout(0.5)(input_layer)\n",
    "    encoded = layers.Dense(n, activation='relu')(encoded)\n",
    "    decoded = layers.Dense(num_words, activation='sigmoid')(encoded)\n",
    "\n",
    "    autoencoder = keras.Model(input_layer, decoded)\n",
    "\n",
    "    encoder = keras.Model(input_layer, encoded)\n",
    "\n",
    "    encoded_input = keras.Input(shape=(n,))\n",
    "    decoder_layer = autoencoder.layers[-1]\n",
    "    decoder = keras.Model(encoded_input, decoder_layer(encoded_input))\n",
    "\n",
    "    autoencoder.compile(optimizer=opt, loss='binary_crossentropy')\n",
    "\n",
    "    autoencoder.fit(x_train, x_train,\n",
    "                   epochs=eps,\n",
    "                   batch_size=128,\n",
    "                   shuffle=True,\n",
    "                   verbose=False)\n",
    "    \n",
    "    return autoencoder, encoder, decoder\n",
    "\n",
    "#autoencoder, encoder, decoder = train_ae(eps=2000, n=70, opt='rmsprop')"
   ]
  },
  {
   "cell_type": "code",
   "execution_count": null,
   "metadata": {},
   "outputs": [],
   "source": [
    "word_lookup = {v:k for k,v in vectorizer.vocabulary_.items()}\n",
    "\n",
    "def recall_list(test_item, encoder, decoder, with_scores=False):\n",
    "    encoded = encoder.predict(vectorizer.transform([test_item]))\n",
    "    decoded = decoder.predict(encoded)\n",
    "    \n",
    "    if with_scores == True:\n",
    "        return([(word_lookup[index], decoded[0][index]) for index in np.argsort(-decoded)[0]][0:30]) \n",
    "    else:\n",
    "        return([word_lookup[index] for index in np.argsort(-decoded)[0]][0:30])"
   ]
  },
  {
   "cell_type": "code",
   "execution_count": 920,
   "metadata": {},
   "outputs": [],
   "source": [
    "def evaluate_model(encoder, decoder):\n",
    "    ints = []\n",
    "    for i in range(14):\n",
    "        true = texts[i].split()\n",
    "        pred = recall_list(\"id_{}\".format(i), encoder, decoder)[0:len(true)]\n",
    "        intersection = [val for val in true if val in pred]\n",
    "        ints.append(len(intersection))\n",
    "    print(sum(ints))\n",
    "    return(sum(ints))"
   ]
  },
  {
   "cell_type": "code",
   "execution_count": null,
   "metadata": {
    "scrolled": true
   },
   "outputs": [],
   "source": [
    "eps_to_try = [10,20,50,100,200,250,300,350,400, 500,1000]\n",
    "opt_to_try = ['sgd', 'rmsprop', 'adam']\n",
    "n_to_try = [5,10,20,30,40,50,60,80, 100, 150, 200,250,300,400]\n",
    "\n",
    "params = []\n",
    "scores = []\n",
    "\n",
    "for ep in eps_to_try:\n",
    "    for opt in opt_to_try:\n",
    "        for n in n_to_try:\n",
    "            autoencoder, encoder, decoder = train_ae(eps=ep, n=n, opt=opt)\n",
    "            score = evaluate_model(encoder, decoder)\n",
    "            params.append([ep,n,opt])\n",
    "            scores.append(score)\n",
    "            print([ep,n,opt])\n",
    "            print(score)\n",
    "            \n",
    "params[np.argmax(scores)]"
   ]
  },
  {
   "cell_type": "code",
   "execution_count": 965,
   "metadata": {
    "scrolled": true
   },
   "outputs": [],
   "source": [
    "autoencoder, encoder, decoder = train_ae(eps=2100, n=50, opt='rmsprop')"
   ]
  },
  {
   "cell_type": "code",
   "execution_count": 967,
   "metadata": {},
   "outputs": [
    {
     "name": "stdout",
     "output_type": "stream",
     "text": [
      "Words in DRM list for lure 'thief':\n",
      "['steal', 'jail', 'criminal', 'money', 'bad', 'burglar', 'crime', 'gun', 'bank']\n",
      "Recalled list:\n",
      "['id_0', 'jail', 'bank', 'burglar', 'criminal', 'gun', 'money', 'crime', 'bad', 'steal', 'didn', 'health', 'means', 'prison', 'even', 'sent', 'thief', 'cold', 'dog', 'general']\n",
      "...........\n",
      "Words in DRM list for lure 'doctor':\n",
      "['clinic', 'health', 'medicine', 'sick', 'cure', 'nurse', 'patient', 'hospital', 'physician', 'ill']\n",
      "Recalled list:\n",
      "['id_1', 'cure', 'doctor', 'ill', 'sick', 'clinic', 'bank', 'medicine', 'apnea', 'sleep', 'hospital', 'from', 'health', 'patient', 'first', 'john', 'at', 'while', 'wet', 'must']\n",
      "...........\n",
      "Words in DRM list for lure 'cold':\n",
      "['hot', 'wet', 'winter', 'freeze', 'heat', 'snow', 'arctic', 'air', 'weather', 'ice', 'warm']\n",
      "Recalled list:\n",
      "['id_2', 'air', 'sleep', 'burglar', 'hot', 'car', 'arctic', 'heat', 'freeze', 'snow', 'weather', 'wet', 'jail', 'warm', 'ice', 'went', 'is', 'john', 'winter', 'are']\n",
      "...........\n",
      "Words in DRM list for lure 'car':\n",
      "['truck', 'bus', 'train', 'vehicle', 'drive', 'ford', 'race', 'keys', 'garage', 'highway', 'van', 'taxi']\n",
      "Recalled list:\n",
      "['id_3', 'train', 'keys', 'truck', 'race', 'area', 'weather', 'van', 'car', 'instead', 'highway', 'towards', 'taxi', 'drive', 'ford', 'from', 'shows', 'of', 'second', '000']\n",
      "...........\n",
      "Words in DRM list for lure 'sleep':\n",
      "['bed', 'rest', 'awake', 'tired', 'dream', 'wake', 'blanket', 'peace']\n",
      "Recalled list:\n",
      "['id_4', 'rest', 'peace', 'dream', 'blanket', 'wake', 'she', 'bed', 'tired', 'sleep', 'its', 'awake', 'snap', 'nurse', 'doctor', 'thief', 'found', 'south', 'phone', 'feeling']\n",
      "...........\n"
     ]
    }
   ],
   "source": [
    "for ind, DRM_list in enumerate(DRM_lists):\n",
    "    in_vocab = [i.lower() for i in DRM_list if i.lower() in vectorizer.vocabulary_.keys()]\n",
    "    print(\"Words in DRM list for lure '{}':\".format(lures[ind].lower()))\n",
    "    print(in_vocab)\n",
    "    test_item = 'id_{}'.format(ind) #' '.join([i.lower() for i in DRM_list])\n",
    "    encoded = encoder.predict(vectorizer.transform([test_item]))\n",
    "    decoded = decoder.predict(encoded)\n",
    "    print(\"Recalled list:\")\n",
    "    top_words = [word_lookup[index] for index in np.argsort(-decoded)[0][0:20]]\n",
    "    print(top_words)\n",
    "    print(\"...........\")\n",
    "    "
   ]
  },
  {
   "cell_type": "code",
   "execution_count": 971,
   "metadata": {},
   "outputs": [
    {
     "data": {
      "image/png": "[encoded data removed]",
      "text/plain": [
       "<Figure size 864x1296 with 3 Axes>"
      ]
     },
     "metadata": {
      "needs_background": "light"
     },
     "output_type": "display_data"
    }
   ],
   "source": [
    "fig, axs = plt.subplots(3,1, figsize=(12,18))\n",
    "fig.tight_layout(pad=100.0)\n",
    "\n",
    "recalled = recall_list('id_1', encoder, decoder, with_scores=True)[0:10]\n",
    "terms = [i[0] for i in recalled]\n",
    "scores = [i[1] for i in recalled]\n",
    "clrs = ['red' if x == 'doctor' else 'blue' for x in terms]\n",
    "\n",
    "axs[1].bar(terms, scores, color=clrs, alpha=0.5)\n",
    "axs[1].set_ylabel('Recall score')\n",
    "axs[1].set_title(\"Recalled words for input 'id_1', \\ncorresponding to the DRM list with lure word 'doctor'\")\n",
    "\n",
    "recalled = recall_list('id_3', encoder, decoder, with_scores=True)[0:10]\n",
    "terms = [i[0] for i in recalled]\n",
    "scores = [i[1] for i in recalled]\n",
    "clrs = ['red' if x == 'car' else 'blue' for x in terms]\n",
    "\n",
    "axs[0].bar(terms, scores, color=clrs, alpha=0.5)\n",
    "axs[0].set_ylabel('Recall score')\n",
    "axs[0].set_title(\"Recalled words for input 'id_0', \\ncorresponding to the DRM list with lure word 'thief'\")\n",
    "\n",
    "recalled = recall_list('id_4', encoder, decoder, with_scores=True)[0:10]\n",
    "terms = [i[0] for i in recalled]\n",
    "scores = [i[1] for i in recalled]\n",
    "clrs = ['red' if x == 'sleep' else 'blue' for x in terms]\n",
    "\n",
    "axs[2].bar(terms, scores, color=clrs, alpha=0.5)\n",
    "axs[2].set_ylabel('Recall score')\n",
    "axs[2].set_title(\"Recalled words for input 'id_2', \\ncorresponding to the DRM list with lure word 'cold'\")\n",
    "\n",
    "#fig.savefig('ae_2000eps_50dim_rmsprop.png')"
   ]
  }
 ],
 "metadata": {
  "kernelspec": {
   "display_name": "Python 3",
   "language": "python",
   "name": "python3"
  },
  "language_info": {
   "codemirror_mode": {
    "name": "ipython",
    "version": 3
   },
   "file_extension": ".py",
   "mimetype": "text/x-python",
   "name": "python",
   "nbconvert_exporter": "python",
   "pygments_lexer": "ipython3",
   "version": "3.7.1"
  }
 },
 "nbformat": 4,
 "nbformat_minor": 4
}
